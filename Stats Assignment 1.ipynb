{
 "cells": [
  {
   "cell_type": "markdown",
   "id": "585a4860",
   "metadata": {},
   "source": [
    "# Assignment 1"
   ]
  },
  {
   "cell_type": "markdown",
   "id": "14e6610d",
   "metadata": {},
   "source": [
    "Q1. What exactly is the difference between descriptive and inferential statistics?"
   ]
  },
  {
   "cell_type": "markdown",
   "id": "d9d7bdef",
   "metadata": {},
   "source": [
    "Ans.\n",
    "Descriptive statistics focuses on to summarising the data which is given to us, such as measure of central tendency, measure of dispersion whereas inferential statistics is about to generalize the sample inference to the population (in large data)."
   ]
  },
  {
   "cell_type": "markdown",
   "id": "407cce74",
   "metadata": {},
   "source": [
    "Q2. I'm not sure what is the difference between a sample and a population?"
   ]
  },
  {
   "cell_type": "markdown",
   "id": "82bf754f",
   "metadata": {},
   "source": [
    "Ans. \n",
    "Let's understand it with an example, we can see the exit polls on almost every news channels which displays that which political party is going to win how much seats, how they are telling these numbers of seats winning ? actually they performed survey to with some people of different regions and then declaring those insights as the thinking of population, means the few people whom they surveyed are samples and generalized it to the all the people is population."
   ]
  },
  {
   "cell_type": "markdown",
   "id": "6822589c",
   "metadata": {},
   "source": [
    "Q3. What distinguishes descriptive statistics from other types of statistics?"
   ]
  },
  {
   "cell_type": "markdown",
   "id": "465081c8",
   "metadata": {},
   "source": [
    "Ans. Descriptive statistics motive is to describe the characteristics of the data like mean, median, mode, variance, standard deviation, etc. where other type of statistics is used to inference from the sample and generalizing it to population."
   ]
  },
  {
   "cell_type": "markdown",
   "id": "3c9a5338",
   "metadata": {},
   "source": [
    "Q4. What is the difference between quantitative and qualitative data?"
   ]
  },
  {
   "cell_type": "markdown",
   "id": "9c748c2c",
   "metadata": {},
   "source": [
    "Ans. Quantitaive data is all about the numbers either may be discrete (whole number) like 1,2,3, etc. or continuos (any float or integer) like 0.3, 56.2, etc. whereas qualitative data is about the categorical data in our dataset which have categories like male or female, yes or no, etc."
   ]
  },
  {
   "cell_type": "markdown",
   "id": "555c3d4e",
   "metadata": {},
   "source": [
    "Q5. What is the definition of a percentile?"
   ]
  },
  {
   "cell_type": "markdown",
   "id": "458bd283",
   "metadata": {},
   "source": [
    "Ans. Percentile is the term in the statistics used to define that how much percentage of data is lower than that given point. For example, if a student score 95 percentile in an exam, this indicates that he performed better than 95% of the students appeared in exam.\n",
    "            Formula for percentile is (Number of values behind * 100) / Number of total values"
   ]
  }
 ],
 "metadata": {
  "kernelspec": {
   "display_name": "Python 3",
   "language": "python",
   "name": "python3"
  },
  "language_info": {
   "codemirror_mode": {
    "name": "ipython",
    "version": 3
   },
   "file_extension": ".py",
   "mimetype": "text/x-python",
   "name": "python",
   "nbconvert_exporter": "python",
   "pygments_lexer": "ipython3",
   "version": "3.8.8"
  }
 },
 "nbformat": 4,
 "nbformat_minor": 5
}
