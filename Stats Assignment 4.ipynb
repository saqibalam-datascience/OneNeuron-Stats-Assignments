{
 "cells": [
  {
   "cell_type": "markdown",
   "id": "b8e1c5ce",
   "metadata": {},
   "source": [
    "Q1. What is the definition of covariance? Create the formula for it."
   ]
  },
  {
   "cell_type": "markdown",
   "id": "edbbba61",
   "metadata": {},
   "source": [
    "Ans. Covariance defines the relation between two variables in number, higher the positive number it give, higher the directly proportional relationship and vice versa, Covariance of two variable ranges from any negative value to any positive value. Formula for covariance --> i-> 1 to N (sum(x(i) - x.mean()) * sum(y(i) - y.mean())) / N for population, but for sample formula will be same but the denominator will be n-1."
   ]
  },
  {
   "cell_type": "markdown",
   "id": "95a6ad2f",
   "metadata": {},
   "source": [
    "Q2. What makes Correlations better than Covariance?"
   ]
  },
  {
   "cell_type": "markdown",
   "id": "3b62ce6a",
   "metadata": {},
   "source": [
    "Ans. In covariance there is no range limit, it can give any value, so for better understanding, correlation was introduced to limit the relationship value from -1 to 1, 0 means there is no any relationship between the variable, 1 means perfectly positively correlated and vice versa for -1."
   ]
  },
  {
   "cell_type": "markdown",
   "id": "e8f518f1",
   "metadata": {},
   "source": [
    "Q3. Explain the process as well as Pearson and Spearman Correlation."
   ]
  },
  {
   "cell_type": "markdown",
   "id": "6479e208",
   "metadata": {},
   "source": [
    "Ans. Finding Person correlation --> covariance(x,y) / (st. dev. of x * st. dev. of y).   Finding Spearman Rank Correlation --> covariance(Ranks of x , Ranks of y) / (st. dev. of Ranks of x * st. dev. of Ranks of y)"
   ]
  },
  {
   "cell_type": "markdown",
   "id": "9f25bf56",
   "metadata": {},
   "source": [
    "Q4. What are the advantages of Spearman Correlation over Pearson Correlation?"
   ]
  },
  {
   "cell_type": "markdown",
   "id": "324ec07a",
   "metadata": {},
   "source": [
    "Ans. Spearman Rank Correlation is able to describe non linear relationship also which makes it better than Pearson Correlation."
   ]
  },
  {
   "cell_type": "markdown",
   "id": "ffbac979",
   "metadata": {},
   "source": [
    "Q5. Describe the Central Limit Theorem."
   ]
  },
  {
   "cell_type": "markdown",
   "id": "5687c5f2",
   "metadata": {},
   "source": [
    "Ans. It consists of 3 statements --> (1) Number of samples should be >= 30; (2) Mean of sample will be near to mean of population; (3) If we increase the sample size, the curvature of distribution will "
   ]
  }
 ],
 "metadata": {
  "kernelspec": {
   "display_name": "Python 3",
   "language": "python",
   "name": "python3"
  },
  "language_info": {
   "codemirror_mode": {
    "name": "ipython",
    "version": 3
   },
   "file_extension": ".py",
   "mimetype": "text/x-python",
   "name": "python",
   "nbconvert_exporter": "python",
   "pygments_lexer": "ipython3",
   "version": "3.8.8"
  }
 },
 "nbformat": 4,
 "nbformat_minor": 5
}
