{
 "cells": [
  {
   "cell_type": "markdown",
   "id": "9ecbd9f5",
   "metadata": {},
   "source": [
    "Q1. Write the Gaussian Distribution empirical formula."
   ]
  },
  {
   "cell_type": "markdown",
   "id": "d281d6c0",
   "metadata": {},
   "source": [
    "Ans. Gaussian empirical formula tells us that the area between the region (mean +- 1 * st. dev) occupies 68% volume of data, (mean +- 2 * st. dev) occupies 95% volume of data, (mean +- 3 * st. dev) occupies 99.7% volume of data."
   ]
  },
  {
   "cell_type": "markdown",
   "id": "fea78281",
   "metadata": {},
   "source": [
    "Q2. What is the Z-score, and why is it important?"
   ]
  },
  {
   "cell_type": "markdown",
   "id": "f734584d",
   "metadata": {},
   "source": [
    "Ans. Z score tells us that how much a data point z score is far from the mean z score, Z score for mean is 0, it is important because it gives a standard value which will positive and negative with right side of mean and left side of mean respectively. Zscore 1,2,3 values implies empirical formula with its three properties."
   ]
  },
  {
   "cell_type": "markdown",
   "id": "5848c32d",
   "metadata": {},
   "source": [
    "Q3. What is an outlier, exactly?"
   ]
  },
  {
   "cell_type": "markdown",
   "id": "9861b49b",
   "metadata": {},
   "source": [
    "Ans. The datapoint which is very far from mean of the data or extremely low or extremely high from the other data points considered as outlier, outliers present in have a very high and very low z score and the outliers lies in the critical region. Also, in IQR formula, if a data point is higher than Q3 + 1.5*IQR or lower than Q1 + 1.5*IQR are treated as outliers."
   ]
  },
  {
   "cell_type": "markdown",
   "id": "c72ced03",
   "metadata": {},
   "source": [
    "Q4. What are our options for dealing with outliers in our dataset?"
   ]
  },
  {
   "cell_type": "markdown",
   "id": "8c90df69",
   "metadata": {},
   "source": [
    "Ans. We can use the interquartile range formula for dealing with outliers, as mentioned above, we can also check the outlier by zscore, we can also remove ouliers by visualizing and manually treated each outlier."
   ]
  },
  {
   "cell_type": "markdown",
   "id": "bb843d0f",
   "metadata": {},
   "source": [
    "Q5. Write the sample and population variances equations and explain Bessel\n",
    "Correction."
   ]
  },
  {
   "cell_type": "markdown",
   "id": "bfd73e3f",
   "metadata": {},
   "source": [
    "Ans. Variance equation for sample --> (x(i)-xbar)/n-1 , Variance equation for population --> (x(i)-meu)/N , xbar indicates mean of sample data , meu indicates mean of population data. When we take denominator as n in sample formulas then this causing the underestimate of true population value, for overcome this problem and unbias we use degree of freedom as n-1 in sample formulas. "
   ]
  }
 ],
 "metadata": {
  "kernelspec": {
   "display_name": "Python 3",
   "language": "python",
   "name": "python3"
  },
  "language_info": {
   "codemirror_mode": {
    "name": "ipython",
    "version": 3
   },
   "file_extension": ".py",
   "mimetype": "text/x-python",
   "name": "python",
   "nbconvert_exporter": "python",
   "pygments_lexer": "ipython3",
   "version": "3.8.8"
  }
 },
 "nbformat": 4,
 "nbformat_minor": 5
}
