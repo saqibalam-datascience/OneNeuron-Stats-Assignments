{
 "cells": [
  {
   "cell_type": "markdown",
   "id": "15d86a4e",
   "metadata": {},
   "source": [
    "Q1. How can we figure out what the interquartile range is?"
   ]
  },
  {
   "cell_type": "markdown",
   "id": "043d7d22",
   "metadata": {},
   "source": [
    "Ans. If we plot the box plot, we can see the 25 percentile, 50 percentile and 75 percentile of the data, so we can find the IQR by formula --> Q3 - Q1 and by using the formulas (Q3 + 1.5 * IQR) and (Q1 - 1.5 * IQR) we can find out the outliers present in our dataset."
   ]
  },
  {
   "cell_type": "markdown",
   "id": "5a1e35c2",
   "metadata": {},
   "source": [
    "Q2. What exactly is the value of the 5-number theory?"
   ]
  },
  {
   "cell_type": "markdown",
   "id": "611eda6b",
   "metadata": {},
   "source": [
    "Ans. 5 number theory consist of 5 information about the data which are minimum value of data, 25 percentile value of data , 50 percentile value of data, 75 percentile value of data and maximum value of data, which help us to know the range and finding the outliers of the data"
   ]
  },
  {
   "cell_type": "markdown",
   "id": "f82797cb",
   "metadata": {},
   "source": [
    "Q3. What is the relationship between standard deviation and variance?"
   ]
  },
  {
   "cell_type": "markdown",
   "id": "926dc6d5",
   "metadata": {},
   "source": [
    "Ans. The differenciating factor between variance and standard deviation formula is just a square root.\n",
    "If we square root to the variance formula it becomes formula for standard deviation."
   ]
  },
  {
   "cell_type": "markdown",
   "id": "b4b90698",
   "metadata": {},
   "source": [
    "Q4. What does the difference between variance and standard deviation mean?"
   ]
  },
  {
   "cell_type": "markdown",
   "id": "01b01e03",
   "metadata": {},
   "source": [
    "Ans. Variance tells us about how much our data is spread, it tells us the spread of our data whereas standard deviation tells us that how much a given point is far from the mean of the data."
   ]
  },
  {
   "cell_type": "markdown",
   "id": "4086b2a2",
   "metadata": {},
   "source": [
    "Q5. When is it appropriate to refer to a skewed data distribution?"
   ]
  },
  {
   "cell_type": "markdown",
   "id": "c38ab48e",
   "metadata": {},
   "source": [
    "Ans. When we see that the bell curve is towards on left side and having a tail on right side refers to right skewed data or the bell curve is towards more on right side and having a tell on left side refers to left skewed data, and that skewed distribution which can be converted in normal dist"
   ]
  }
 ],
 "metadata": {
  "kernelspec": {
   "display_name": "Python 3",
   "language": "python",
   "name": "python3"
  },
  "language_info": {
   "codemirror_mode": {
    "name": "ipython",
    "version": 3
   },
   "file_extension": ".py",
   "mimetype": "text/x-python",
   "name": "python",
   "nbconvert_exporter": "python",
   "pygments_lexer": "ipython3",
   "version": "3.8.8"
  }
 },
 "nbformat": 4,
 "nbformat_minor": 5
}
